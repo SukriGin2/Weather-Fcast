{
  "nbformat": 4,
  "nbformat_minor": 0,
  "metadata": {
    "colab": {
      "provenance": [],
      "authorship_tag": "ABX9TyNuQ1tx4B/vPj6C/3CjriWa",
      "include_colab_link": true
    },
    "kernelspec": {
      "name": "python3",
      "display_name": "Python 3"
    },
    "language_info": {
      "name": "python"
    }
  },
  "cells": [
    {
      "cell_type": "markdown",
      "metadata": {
        "id": "view-in-github",
        "colab_type": "text"
      },
      "source": [
        "<a href=\"https://colab.research.google.com/github/SukriGin2/Weather-Fcast/blob/main/25_Database%2C_API_Basics_%26_Error_Handling.ipynb\" target=\"_parent\"><img src=\"https://colab.research.google.com/assets/colab-badge.svg\" alt=\"Open In Colab\"/></a>"
      ]
    },
    {
      "cell_type": "markdown",
      "source": [
        "### Synchronous code will block further execution of the remaining code until i finishes the current one\n",
        "# Asynchronous code allows the program to be executed immediately"
      ],
      "metadata": {
        "id": "MNPdbCg4zEuo"
      }
    },
    {
      "cell_type": "code",
      "execution_count": null,
      "metadata": {
        "id": "FBJq-cW6xJ_o"
      },
      "outputs": [],
      "source": [
        "# Synchronous code will block further execution of the remaining code until i finishes the current one\n",
        "# Asynchronous code allows the program to be executed immediately"
      ]
    },
    {
      "cell_type": "markdown",
      "source": [
        "2. Using HTTP req to get data from API"
      ],
      "metadata": {
        "id": "13tePWG40MTy"
      }
    },
    {
      "cell_type": "code",
      "source": [
        "import requests\n",
        "\n",
        "#https://jsonplaceholder.typicode.com/todos\n",
        "\n",
        "#in the requests library, there is a method called .get()\n",
        "# get data from a specific endpoint (above URL)\n",
        "# then we will store the fethced data in a variable called response\n",
        "\n",
        "response = requests.get(\"https://jsonplaceholder.typicode.com/todos\")\n",
        "print(response) #Code 200 means 'fetching is successful'), 404 means 'not found/endpoint does not exist'\n",
        "\n",
        "\n"
      ],
      "metadata": {
        "colab": {
          "base_uri": "https://localhost:8080/"
        },
        "id": "hVXAAnU6zGFF",
        "outputId": "596d4cce-ec6b-47c8-e2a7-8af0c3ddcae7"
      },
      "execution_count": null,
      "outputs": [
        {
          "output_type": "stream",
          "name": "stdout",
          "text": [
            "<Response [200]>\n"
          ]
        }
      ]
    },
    {
      "cell_type": "code",
      "source": [
        "posts = response.json() # converts the data fetched into json format, dict()"
      ],
      "metadata": {
        "id": "Br4MES3409nO"
      },
      "execution_count": null,
      "outputs": []
    },
    {
      "cell_type": "code",
      "source": [
        "for x in posts:\n",
        "  print(x)"
      ],
      "metadata": {
        "colab": {
          "base_uri": "https://localhost:8080/"
        },
        "id": "nTyC5m7k16po",
        "outputId": "8a10d66f-c680-45c7-dcf4-26501e957b8b"
      },
      "execution_count": null,
      "outputs": [
        {
          "output_type": "stream",
          "name": "stdout",
          "text": [
            "{'userId': 1, 'id': 1, 'title': 'delectus aut autem', 'completed': False}\n",
            "{'userId': 1, 'id': 2, 'title': 'quis ut nam facilis et officia qui', 'completed': False}\n",
            "{'userId': 1, 'id': 3, 'title': 'fugiat veniam minus', 'completed': False}\n",
            "{'userId': 1, 'id': 4, 'title': 'et porro tempora', 'completed': True}\n",
            "{'userId': 1, 'id': 5, 'title': 'laboriosam mollitia et enim quasi adipisci quia provident illum', 'completed': False}\n",
            "{'userId': 1, 'id': 6, 'title': 'qui ullam ratione quibusdam voluptatem quia omnis', 'completed': False}\n",
            "{'userId': 1, 'id': 7, 'title': 'illo expedita consequatur quia in', 'completed': False}\n",
            "{'userId': 1, 'id': 8, 'title': 'quo adipisci enim quam ut ab', 'completed': True}\n",
            "{'userId': 1, 'id': 9, 'title': 'molestiae perspiciatis ipsa', 'completed': False}\n",
            "{'userId': 1, 'id': 10, 'title': 'illo est ratione doloremque quia maiores aut', 'completed': True}\n",
            "{'userId': 1, 'id': 11, 'title': 'vero rerum temporibus dolor', 'completed': True}\n",
            "{'userId': 1, 'id': 12, 'title': 'ipsa repellendus fugit nisi', 'completed': True}\n",
            "{'userId': 1, 'id': 13, 'title': 'et doloremque nulla', 'completed': False}\n",
            "{'userId': 1, 'id': 14, 'title': 'repellendus sunt dolores architecto voluptatum', 'completed': True}\n",
            "{'userId': 1, 'id': 15, 'title': 'ab voluptatum amet voluptas', 'completed': True}\n",
            "{'userId': 1, 'id': 16, 'title': 'accusamus eos facilis sint et aut voluptatem', 'completed': True}\n",
            "{'userId': 1, 'id': 17, 'title': 'quo laboriosam deleniti aut qui', 'completed': True}\n",
            "{'userId': 1, 'id': 18, 'title': 'dolorum est consequatur ea mollitia in culpa', 'completed': False}\n",
            "{'userId': 1, 'id': 19, 'title': 'molestiae ipsa aut voluptatibus pariatur dolor nihil', 'completed': True}\n",
            "{'userId': 1, 'id': 20, 'title': 'ullam nobis libero sapiente ad optio sint', 'completed': True}\n",
            "{'userId': 2, 'id': 21, 'title': 'suscipit repellat esse quibusdam voluptatem incidunt', 'completed': False}\n",
            "{'userId': 2, 'id': 22, 'title': 'distinctio vitae autem nihil ut molestias quo', 'completed': True}\n",
            "{'userId': 2, 'id': 23, 'title': 'et itaque necessitatibus maxime molestiae qui quas velit', 'completed': False}\n",
            "{'userId': 2, 'id': 24, 'title': 'adipisci non ad dicta qui amet quaerat doloribus ea', 'completed': False}\n",
            "{'userId': 2, 'id': 25, 'title': 'voluptas quo tenetur perspiciatis explicabo natus', 'completed': True}\n",
            "{'userId': 2, 'id': 26, 'title': 'aliquam aut quasi', 'completed': True}\n",
            "{'userId': 2, 'id': 27, 'title': 'veritatis pariatur delectus', 'completed': True}\n",
            "{'userId': 2, 'id': 28, 'title': 'nesciunt totam sit blanditiis sit', 'completed': False}\n",
            "{'userId': 2, 'id': 29, 'title': 'laborum aut in quam', 'completed': False}\n",
            "{'userId': 2, 'id': 30, 'title': 'nemo perspiciatis repellat ut dolor libero commodi blanditiis omnis', 'completed': True}\n",
            "{'userId': 2, 'id': 31, 'title': 'repudiandae totam in est sint facere fuga', 'completed': False}\n",
            "{'userId': 2, 'id': 32, 'title': 'earum doloribus ea doloremque quis', 'completed': False}\n",
            "{'userId': 2, 'id': 33, 'title': 'sint sit aut vero', 'completed': False}\n",
            "{'userId': 2, 'id': 34, 'title': 'porro aut necessitatibus eaque distinctio', 'completed': False}\n",
            "{'userId': 2, 'id': 35, 'title': 'repellendus veritatis molestias dicta incidunt', 'completed': True}\n",
            "{'userId': 2, 'id': 36, 'title': 'excepturi deleniti adipisci voluptatem et neque optio illum ad', 'completed': True}\n",
            "{'userId': 2, 'id': 37, 'title': 'sunt cum tempora', 'completed': False}\n",
            "{'userId': 2, 'id': 38, 'title': 'totam quia non', 'completed': False}\n",
            "{'userId': 2, 'id': 39, 'title': 'doloremque quibusdam asperiores libero corrupti illum qui omnis', 'completed': False}\n",
            "{'userId': 2, 'id': 40, 'title': 'totam atque quo nesciunt', 'completed': True}\n",
            "{'userId': 3, 'id': 41, 'title': 'aliquid amet impedit consequatur aspernatur placeat eaque fugiat suscipit', 'completed': False}\n",
            "{'userId': 3, 'id': 42, 'title': 'rerum perferendis error quia ut eveniet', 'completed': False}\n",
            "{'userId': 3, 'id': 43, 'title': 'tempore ut sint quis recusandae', 'completed': True}\n",
            "{'userId': 3, 'id': 44, 'title': 'cum debitis quis accusamus doloremque ipsa natus sapiente omnis', 'completed': True}\n",
            "{'userId': 3, 'id': 45, 'title': 'velit soluta adipisci molestias reiciendis harum', 'completed': False}\n",
            "{'userId': 3, 'id': 46, 'title': 'vel voluptatem repellat nihil placeat corporis', 'completed': False}\n",
            "{'userId': 3, 'id': 47, 'title': 'nam qui rerum fugiat accusamus', 'completed': False}\n",
            "{'userId': 3, 'id': 48, 'title': 'sit reprehenderit omnis quia', 'completed': False}\n",
            "{'userId': 3, 'id': 49, 'title': 'ut necessitatibus aut maiores debitis officia blanditiis velit et', 'completed': False}\n",
            "{'userId': 3, 'id': 50, 'title': 'cupiditate necessitatibus ullam aut quis dolor voluptate', 'completed': True}\n",
            "{'userId': 3, 'id': 51, 'title': 'distinctio exercitationem ab doloribus', 'completed': False}\n",
            "{'userId': 3, 'id': 52, 'title': 'nesciunt dolorum quis recusandae ad pariatur ratione', 'completed': False}\n",
            "{'userId': 3, 'id': 53, 'title': 'qui labore est occaecati recusandae aliquid quam', 'completed': False}\n",
            "{'userId': 3, 'id': 54, 'title': 'quis et est ut voluptate quam dolor', 'completed': True}\n",
            "{'userId': 3, 'id': 55, 'title': 'voluptatum omnis minima qui occaecati provident nulla voluptatem ratione', 'completed': True}\n",
            "{'userId': 3, 'id': 56, 'title': 'deleniti ea temporibus enim', 'completed': True}\n",
            "{'userId': 3, 'id': 57, 'title': 'pariatur et magnam ea doloribus similique voluptatem rerum quia', 'completed': False}\n",
            "{'userId': 3, 'id': 58, 'title': 'est dicta totam qui explicabo doloribus qui dignissimos', 'completed': False}\n",
            "{'userId': 3, 'id': 59, 'title': 'perspiciatis velit id laborum placeat iusto et aliquam odio', 'completed': False}\n",
            "{'userId': 3, 'id': 60, 'title': 'et sequi qui architecto ut adipisci', 'completed': True}\n",
            "{'userId': 4, 'id': 61, 'title': 'odit optio omnis qui sunt', 'completed': True}\n",
            "{'userId': 4, 'id': 62, 'title': 'et placeat et tempore aspernatur sint numquam', 'completed': False}\n",
            "{'userId': 4, 'id': 63, 'title': 'doloremque aut dolores quidem fuga qui nulla', 'completed': True}\n",
            "{'userId': 4, 'id': 64, 'title': 'voluptas consequatur qui ut quia magnam nemo esse', 'completed': False}\n",
            "{'userId': 4, 'id': 65, 'title': 'fugiat pariatur ratione ut asperiores necessitatibus magni', 'completed': False}\n",
            "{'userId': 4, 'id': 66, 'title': 'rerum eum molestias autem voluptatum sit optio', 'completed': False}\n",
            "{'userId': 4, 'id': 67, 'title': 'quia voluptatibus voluptatem quos similique maiores repellat', 'completed': False}\n",
            "{'userId': 4, 'id': 68, 'title': 'aut id perspiciatis voluptatem iusto', 'completed': False}\n",
            "{'userId': 4, 'id': 69, 'title': 'doloribus sint dolorum ab adipisci itaque dignissimos aliquam suscipit', 'completed': False}\n",
            "{'userId': 4, 'id': 70, 'title': 'ut sequi accusantium et mollitia delectus sunt', 'completed': False}\n",
            "{'userId': 4, 'id': 71, 'title': 'aut velit saepe ullam', 'completed': False}\n",
            "{'userId': 4, 'id': 72, 'title': 'praesentium facilis facere quis harum voluptatibus voluptatem eum', 'completed': False}\n",
            "{'userId': 4, 'id': 73, 'title': 'sint amet quia totam corporis qui exercitationem commodi', 'completed': True}\n",
            "{'userId': 4, 'id': 74, 'title': 'expedita tempore nobis eveniet laborum maiores', 'completed': False}\n",
            "{'userId': 4, 'id': 75, 'title': 'occaecati adipisci est possimus totam', 'completed': False}\n",
            "{'userId': 4, 'id': 76, 'title': 'sequi dolorem sed', 'completed': True}\n",
            "{'userId': 4, 'id': 77, 'title': 'maiores aut nesciunt delectus exercitationem vel assumenda eligendi at', 'completed': False}\n",
            "{'userId': 4, 'id': 78, 'title': 'reiciendis est magnam amet nemo iste recusandae impedit quaerat', 'completed': False}\n",
            "{'userId': 4, 'id': 79, 'title': 'eum ipsa maxime ut', 'completed': True}\n",
            "{'userId': 4, 'id': 80, 'title': 'tempore molestias dolores rerum sequi voluptates ipsum consequatur', 'completed': True}\n",
            "{'userId': 5, 'id': 81, 'title': 'suscipit qui totam', 'completed': True}\n",
            "{'userId': 5, 'id': 82, 'title': 'voluptates eum voluptas et dicta', 'completed': False}\n",
            "{'userId': 5, 'id': 83, 'title': 'quidem at rerum quis ex aut sit quam', 'completed': True}\n",
            "{'userId': 5, 'id': 84, 'title': 'sunt veritatis ut voluptate', 'completed': False}\n",
            "{'userId': 5, 'id': 85, 'title': 'et quia ad iste a', 'completed': True}\n",
            "{'userId': 5, 'id': 86, 'title': 'incidunt ut saepe autem', 'completed': True}\n",
            "{'userId': 5, 'id': 87, 'title': 'laudantium quae eligendi consequatur quia et vero autem', 'completed': True}\n",
            "{'userId': 5, 'id': 88, 'title': 'vitae aut excepturi laboriosam sint aliquam et et accusantium', 'completed': False}\n",
            "{'userId': 5, 'id': 89, 'title': 'sequi ut omnis et', 'completed': True}\n",
            "{'userId': 5, 'id': 90, 'title': 'molestiae nisi accusantium tenetur dolorem et', 'completed': True}\n",
            "{'userId': 5, 'id': 91, 'title': 'nulla quis consequatur saepe qui id expedita', 'completed': True}\n",
            "{'userId': 5, 'id': 92, 'title': 'in omnis laboriosam', 'completed': True}\n",
            "{'userId': 5, 'id': 93, 'title': 'odio iure consequatur molestiae quibusdam necessitatibus quia sint', 'completed': True}\n",
            "{'userId': 5, 'id': 94, 'title': 'facilis modi saepe mollitia', 'completed': False}\n",
            "{'userId': 5, 'id': 95, 'title': 'vel nihil et molestiae iusto assumenda nemo quo ut', 'completed': True}\n",
            "{'userId': 5, 'id': 96, 'title': 'nobis suscipit ducimus enim asperiores voluptas', 'completed': False}\n",
            "{'userId': 5, 'id': 97, 'title': 'dolorum laboriosam eos qui iure aliquam', 'completed': False}\n",
            "{'userId': 5, 'id': 98, 'title': 'debitis accusantium ut quo facilis nihil quis sapiente necessitatibus', 'completed': True}\n",
            "{'userId': 5, 'id': 99, 'title': 'neque voluptates ratione', 'completed': False}\n",
            "{'userId': 5, 'id': 100, 'title': 'excepturi a et neque qui expedita vel voluptate', 'completed': False}\n",
            "{'userId': 6, 'id': 101, 'title': 'explicabo enim cumque porro aperiam occaecati minima', 'completed': False}\n",
            "{'userId': 6, 'id': 102, 'title': 'sed ab consequatur', 'completed': False}\n",
            "{'userId': 6, 'id': 103, 'title': 'non sunt delectus illo nulla tenetur enim omnis', 'completed': False}\n",
            "{'userId': 6, 'id': 104, 'title': 'excepturi non laudantium quo', 'completed': False}\n",
            "{'userId': 6, 'id': 105, 'title': 'totam quia dolorem et illum repellat voluptas optio', 'completed': True}\n",
            "{'userId': 6, 'id': 106, 'title': 'ad illo quis voluptatem temporibus', 'completed': True}\n",
            "{'userId': 6, 'id': 107, 'title': 'praesentium facilis omnis laudantium fugit ad iusto nihil nesciunt', 'completed': False}\n",
            "{'userId': 6, 'id': 108, 'title': 'a eos eaque nihil et exercitationem incidunt delectus', 'completed': True}\n",
            "{'userId': 6, 'id': 109, 'title': 'autem temporibus harum quisquam in culpa', 'completed': True}\n",
            "{'userId': 6, 'id': 110, 'title': 'aut aut ea corporis', 'completed': True}\n",
            "{'userId': 6, 'id': 111, 'title': 'magni accusantium labore et id quis provident', 'completed': False}\n",
            "{'userId': 6, 'id': 112, 'title': 'consectetur impedit quisquam qui deserunt non rerum consequuntur eius', 'completed': False}\n",
            "{'userId': 6, 'id': 113, 'title': 'quia atque aliquam sunt impedit voluptatum rerum assumenda nisi', 'completed': False}\n",
            "{'userId': 6, 'id': 114, 'title': 'cupiditate quos possimus corporis quisquam exercitationem beatae', 'completed': False}\n",
            "{'userId': 6, 'id': 115, 'title': 'sed et ea eum', 'completed': False}\n",
            "{'userId': 6, 'id': 116, 'title': 'ipsa dolores vel facilis ut', 'completed': True}\n",
            "{'userId': 6, 'id': 117, 'title': 'sequi quae est et qui qui eveniet asperiores', 'completed': False}\n",
            "{'userId': 6, 'id': 118, 'title': 'quia modi consequatur vero fugiat', 'completed': False}\n",
            "{'userId': 6, 'id': 119, 'title': 'corporis ducimus ea perspiciatis iste', 'completed': False}\n",
            "{'userId': 6, 'id': 120, 'title': 'dolorem laboriosam vel voluptas et aliquam quasi', 'completed': False}\n",
            "{'userId': 7, 'id': 121, 'title': 'inventore aut nihil minima laudantium hic qui omnis', 'completed': True}\n",
            "{'userId': 7, 'id': 122, 'title': 'provident aut nobis culpa', 'completed': True}\n",
            "{'userId': 7, 'id': 123, 'title': 'esse et quis iste est earum aut impedit', 'completed': False}\n",
            "{'userId': 7, 'id': 124, 'title': 'qui consectetur id', 'completed': False}\n",
            "{'userId': 7, 'id': 125, 'title': 'aut quasi autem iste tempore illum possimus', 'completed': False}\n",
            "{'userId': 7, 'id': 126, 'title': 'ut asperiores perspiciatis veniam ipsum rerum saepe', 'completed': True}\n",
            "{'userId': 7, 'id': 127, 'title': 'voluptatem libero consectetur rerum ut', 'completed': True}\n",
            "{'userId': 7, 'id': 128, 'title': 'eius omnis est qui voluptatem autem', 'completed': False}\n",
            "{'userId': 7, 'id': 129, 'title': 'rerum culpa quis harum', 'completed': False}\n",
            "{'userId': 7, 'id': 130, 'title': 'nulla aliquid eveniet harum laborum libero alias ut unde', 'completed': True}\n",
            "{'userId': 7, 'id': 131, 'title': 'qui ea incidunt quis', 'completed': False}\n",
            "{'userId': 7, 'id': 132, 'title': 'qui molestiae voluptatibus velit iure harum quisquam', 'completed': True}\n",
            "{'userId': 7, 'id': 133, 'title': 'et labore eos enim rerum consequatur sunt', 'completed': True}\n",
            "{'userId': 7, 'id': 134, 'title': 'molestiae doloribus et laborum quod ea', 'completed': False}\n",
            "{'userId': 7, 'id': 135, 'title': 'facere ipsa nam eum voluptates reiciendis vero qui', 'completed': False}\n",
            "{'userId': 7, 'id': 136, 'title': 'asperiores illo tempora fuga sed ut quasi adipisci', 'completed': False}\n",
            "{'userId': 7, 'id': 137, 'title': 'qui sit non', 'completed': False}\n",
            "{'userId': 7, 'id': 138, 'title': 'placeat minima consequatur rem qui ut', 'completed': True}\n",
            "{'userId': 7, 'id': 139, 'title': 'consequatur doloribus id possimus voluptas a voluptatem', 'completed': False}\n",
            "{'userId': 7, 'id': 140, 'title': 'aut consectetur in blanditiis deserunt quia sed laboriosam', 'completed': True}\n",
            "{'userId': 8, 'id': 141, 'title': 'explicabo consectetur debitis voluptates quas quae culpa rerum non', 'completed': True}\n",
            "{'userId': 8, 'id': 142, 'title': 'maiores accusantium architecto necessitatibus reiciendis ea aut', 'completed': True}\n",
            "{'userId': 8, 'id': 143, 'title': 'eum non recusandae cupiditate animi', 'completed': False}\n",
            "{'userId': 8, 'id': 144, 'title': 'ut eum exercitationem sint', 'completed': False}\n",
            "{'userId': 8, 'id': 145, 'title': 'beatae qui ullam incidunt voluptatem non nisi aliquam', 'completed': False}\n",
            "{'userId': 8, 'id': 146, 'title': 'molestiae suscipit ratione nihil odio libero impedit vero totam', 'completed': True}\n",
            "{'userId': 8, 'id': 147, 'title': 'eum itaque quod reprehenderit et facilis dolor autem ut', 'completed': True}\n",
            "{'userId': 8, 'id': 148, 'title': 'esse quas et quo quasi exercitationem', 'completed': False}\n",
            "{'userId': 8, 'id': 149, 'title': 'animi voluptas quod perferendis est', 'completed': False}\n",
            "{'userId': 8, 'id': 150, 'title': 'eos amet tempore laudantium fugit a', 'completed': False}\n",
            "{'userId': 8, 'id': 151, 'title': 'accusamus adipisci dicta qui quo ea explicabo sed vero', 'completed': True}\n",
            "{'userId': 8, 'id': 152, 'title': 'odit eligendi recusandae doloremque cumque non', 'completed': False}\n",
            "{'userId': 8, 'id': 153, 'title': 'ea aperiam consequatur qui repellat eos', 'completed': False}\n",
            "{'userId': 8, 'id': 154, 'title': 'rerum non ex sapiente', 'completed': True}\n",
            "{'userId': 8, 'id': 155, 'title': 'voluptatem nobis consequatur et assumenda magnam', 'completed': True}\n",
            "{'userId': 8, 'id': 156, 'title': 'nam quia quia nulla repellat assumenda quibusdam sit nobis', 'completed': True}\n",
            "{'userId': 8, 'id': 157, 'title': 'dolorem veniam quisquam deserunt repellendus', 'completed': True}\n",
            "{'userId': 8, 'id': 158, 'title': 'debitis vitae delectus et harum accusamus aut deleniti a', 'completed': True}\n",
            "{'userId': 8, 'id': 159, 'title': 'debitis adipisci quibusdam aliquam sed dolore ea praesentium nobis', 'completed': True}\n",
            "{'userId': 8, 'id': 160, 'title': 'et praesentium aliquam est', 'completed': False}\n",
            "{'userId': 9, 'id': 161, 'title': 'ex hic consequuntur earum omnis alias ut occaecati culpa', 'completed': True}\n",
            "{'userId': 9, 'id': 162, 'title': 'omnis laboriosam molestias animi sunt dolore', 'completed': True}\n",
            "{'userId': 9, 'id': 163, 'title': 'natus corrupti maxime laudantium et voluptatem laboriosam odit', 'completed': False}\n",
            "{'userId': 9, 'id': 164, 'title': 'reprehenderit quos aut aut consequatur est sed', 'completed': False}\n",
            "{'userId': 9, 'id': 165, 'title': 'fugiat perferendis sed aut quidem', 'completed': False}\n",
            "{'userId': 9, 'id': 166, 'title': 'quos quo possimus suscipit minima ut', 'completed': False}\n",
            "{'userId': 9, 'id': 167, 'title': 'et quis minus quo a asperiores molestiae', 'completed': False}\n",
            "{'userId': 9, 'id': 168, 'title': 'recusandae quia qui sunt libero', 'completed': False}\n",
            "{'userId': 9, 'id': 169, 'title': 'ea odio perferendis officiis', 'completed': True}\n",
            "{'userId': 9, 'id': 170, 'title': 'quisquam aliquam quia doloribus aut', 'completed': False}\n",
            "{'userId': 9, 'id': 171, 'title': 'fugiat aut voluptatibus corrupti deleniti velit iste odio', 'completed': True}\n",
            "{'userId': 9, 'id': 172, 'title': 'et provident amet rerum consectetur et voluptatum', 'completed': False}\n",
            "{'userId': 9, 'id': 173, 'title': 'harum ad aperiam quis', 'completed': False}\n",
            "{'userId': 9, 'id': 174, 'title': 'similique aut quo', 'completed': False}\n",
            "{'userId': 9, 'id': 175, 'title': 'laudantium eius officia perferendis provident perspiciatis asperiores', 'completed': True}\n",
            "{'userId': 9, 'id': 176, 'title': 'magni soluta corrupti ut maiores rem quidem', 'completed': False}\n",
            "{'userId': 9, 'id': 177, 'title': 'et placeat temporibus voluptas est tempora quos quibusdam', 'completed': False}\n",
            "{'userId': 9, 'id': 178, 'title': 'nesciunt itaque commodi tempore', 'completed': True}\n",
            "{'userId': 9, 'id': 179, 'title': 'omnis consequuntur cupiditate impedit itaque ipsam quo', 'completed': True}\n",
            "{'userId': 9, 'id': 180, 'title': 'debitis nisi et dolorem repellat et', 'completed': True}\n",
            "{'userId': 10, 'id': 181, 'title': 'ut cupiditate sequi aliquam fuga maiores', 'completed': False}\n",
            "{'userId': 10, 'id': 182, 'title': 'inventore saepe cumque et aut illum enim', 'completed': True}\n",
            "{'userId': 10, 'id': 183, 'title': 'omnis nulla eum aliquam distinctio', 'completed': True}\n",
            "{'userId': 10, 'id': 184, 'title': 'molestias modi perferendis perspiciatis', 'completed': False}\n",
            "{'userId': 10, 'id': 185, 'title': 'voluptates dignissimos sed doloribus animi quaerat aut', 'completed': False}\n",
            "{'userId': 10, 'id': 186, 'title': 'explicabo odio est et', 'completed': False}\n",
            "{'userId': 10, 'id': 187, 'title': 'consequuntur animi possimus', 'completed': False}\n",
            "{'userId': 10, 'id': 188, 'title': 'vel non beatae est', 'completed': True}\n",
            "{'userId': 10, 'id': 189, 'title': 'culpa eius et voluptatem et', 'completed': True}\n",
            "{'userId': 10, 'id': 190, 'title': 'accusamus sint iusto et voluptatem exercitationem', 'completed': True}\n",
            "{'userId': 10, 'id': 191, 'title': 'temporibus atque distinctio omnis eius impedit tempore molestias pariatur', 'completed': True}\n",
            "{'userId': 10, 'id': 192, 'title': 'ut quas possimus exercitationem sint voluptates', 'completed': False}\n",
            "{'userId': 10, 'id': 193, 'title': 'rerum debitis voluptatem qui eveniet tempora distinctio a', 'completed': True}\n",
            "{'userId': 10, 'id': 194, 'title': 'sed ut vero sit molestiae', 'completed': False}\n",
            "{'userId': 10, 'id': 195, 'title': 'rerum ex veniam mollitia voluptatibus pariatur', 'completed': True}\n",
            "{'userId': 10, 'id': 196, 'title': 'consequuntur aut ut fugit similique', 'completed': True}\n",
            "{'userId': 10, 'id': 197, 'title': 'dignissimos quo nobis earum saepe', 'completed': True}\n",
            "{'userId': 10, 'id': 198, 'title': 'quis eius est sint explicabo', 'completed': True}\n",
            "{'userId': 10, 'id': 199, 'title': 'numquam repellendus a magnam', 'completed': True}\n",
            "{'userId': 10, 'id': 200, 'title': 'ipsam aperiam voluptates qui', 'completed': False}\n"
          ]
        }
      ]
    },
    {
      "cell_type": "markdown",
      "source": [
        "# 2. Error Handling"
      ],
      "metadata": {
        "id": "f7grYQr32heU"
      }
    },
    {
      "cell_type": "code",
      "source": [
        "# we can use the concept try / except\n",
        "#try: whatever code under 'try' it might/ might not work. IF IT produces error, go to except\n",
        "\n",
        "try:\n",
        "  x = \"hello\" + 5\n",
        "  print (x)\n",
        "except TypeError:\n",
        "  print(\"can onclu concatenate str not to str\")"
      ],
      "metadata": {
        "id": "yIFHNZT31_Em"
      },
      "execution_count": null,
      "outputs": []
    },
    {
      "cell_type": "markdown",
      "source": [
        "When to use Try / Except\n"
      ],
      "metadata": {
        "id": "02sWCIdh2ZFp"
      }
    },
    {
      "cell_type": "code",
      "source": [
        "# only use try/except for dynamic data or data type that is beyond your control >>\n",
        "# i) dynamic data type (data that can change data type)\n",
        "# ii) fetching data from api/database query\n",
        "#iii) user inputs"
      ],
      "metadata": {
        "id": "LaHIeiNH2lpO"
      },
      "execution_count": null,
      "outputs": []
    },
    {
      "cell_type": "code",
      "source": [
        "# Example 1\n",
        "\n",
        "def divisions(n1,n2):\n",
        "  try :\n",
        "    n1=int(n1)\n",
        "    n2=int(n2)\n",
        "    print(n1/n2)\n",
        "  except TypeError as a:\n",
        "      print(a)\n",
        "  except ValueError as b:\n",
        "      print(b)\n",
        "  except ZeroDivisionError as c:\n",
        "      print(c)\n",
        "\n",
        "divisions(1,4)\n",
        "divisions (\"sukri\",9)"
      ],
      "metadata": {
        "colab": {
          "base_uri": "https://localhost:8080/"
        },
        "id": "2mGxdfXI7AOi",
        "outputId": "df458cf1-9f59-45d0-8484-9c5f5ffec2a1"
      },
      "execution_count": null,
      "outputs": [
        {
          "output_type": "stream",
          "name": "stdout",
          "text": [
            "0.25\n",
            "invalid literal for int() with base 10: 'sukri'\n"
          ]
        }
      ]
    },
    {
      "cell_type": "markdown",
      "source": [
        "Handling error in API"
      ],
      "metadata": {
        "id": "pmM2XczC9vl-"
      }
    },
    {
      "cell_type": "code",
      "source": [
        "try:\n",
        "  response = requests.get(\"https://jsonplaceholder.typicode.com/todos\")\n",
        "  posts = response.json\n",
        "  print(posts)\n",
        "except requests.exceptions.RequestException as e:\n",
        "  print(f\"Request Failed: {e}\")\n"
      ],
      "metadata": {
        "colab": {
          "base_uri": "https://localhost:8080/"
        },
        "id": "2RofpIcP9nya",
        "outputId": "7a4dcf3e-2e27-46d5-8311-d419bbb65f1e"
      },
      "execution_count": null,
      "outputs": [
        {
          "output_type": "stream",
          "name": "stdout",
          "text": [
            "<bound method Response.json of <Response [200]>>\n"
          ]
        }
      ]
    },
    {
      "cell_type": "code",
      "source": [
        "#Exception\n",
        "def divisions(n1,n2):\n",
        "  try :\n",
        "    n1=int(n1)\n",
        "    n2=int(n2)\n",
        "    print(n1/n2)\n",
        "  except Exception: #this is more generalized\n",
        "    print (\"error\")\n"
      ],
      "metadata": {
        "id": "mKLkfMeR_aCq"
      },
      "execution_count": null,
      "outputs": []
    },
    {
      "cell_type": "markdown",
      "source": [
        "# To create an app using real time data from Accuweather using API Key - Apr 11 20124"
      ],
      "metadata": {
        "id": "jBbpSQyByfj6"
      }
    },
    {
      "cell_type": "code",
      "source": [
        "import requests\n",
        "\n",
        "API_KEY = \"\tbFHTL7meL5kpGuHJwUzGGsTf6Xm9eV35\"\n",
        "\n",
        "# For this app, we will be using these endpoints:\n",
        "# Locations API - http://dataservice.accuweather.com/locations/v1/cities/search # endpoint for city search\n",
        "# Current condition API - http://dataservice.accuweather.com/currentconditions/v1/{location key}\n",
        "# Forecasted Weather API http://dataservice.accuweather.com/forecasts/v1/daily/1day/{location key}"
      ],
      "metadata": {
        "id": "raZHldYQyoQO"
      },
      "execution_count": null,
      "outputs": []
    },
    {
      "cell_type": "markdown",
      "source": [
        "\n",
        "# 1. City Search API\n",
        "\n",
        "\n"
      ],
      "metadata": {
        "id": "8N5qztVU1-C4"
      }
    },
    {
      "cell_type": "code",
      "source": [
        "# 2 things required for city search\n",
        "#1) API key\n",
        "#2) query\n",
        "\n",
        "def city_search(api_key,q):\n",
        "  endpoint = \"http://dataservice.accuweather.com/locations/v1/cities/search\"\n",
        "  params = {\n",
        "      \"apikey\":api_key,\n",
        "      \"q\":q\n",
        "  }\n",
        "\n",
        "  response = requests.get(endpoint,params) #requires endpoint and parameter of requests\n",
        "\n",
        "  if response.status_code ==200:\n",
        "    return response.json()\n",
        "  else:\n",
        "    print(f\"Error:  {response.status_code}\")\n",
        "    return None"
      ],
      "metadata": {
        "id": "IVjAaJ90zFNz"
      },
      "execution_count": null,
      "outputs": []
    },
    {
      "cell_type": "code",
      "source": [
        "city_search1 = city_search(API_KEY,\"Kuala Lumpur\")\n",
        "print(city_search1)\n",
        "# Malaysian city search will be city_search01[0]"
      ],
      "metadata": {
        "colab": {
          "base_uri": "https://localhost:8080/"
        },
        "id": "iSHoNijN5byX",
        "outputId": "c641fa16-44f0-4fae-f33f-fdd1a45f6b0c"
      },
      "execution_count": null,
      "outputs": [
        {
          "output_type": "stream",
          "name": "stdout",
          "text": [
            "[{'Version': 1, 'Key': '233776', 'Type': 'City', 'Rank': 20, 'LocalizedName': 'Kuala Lumpur', 'EnglishName': 'Kuala Lumpur', 'PrimaryPostalCode': '', 'Region': {'ID': 'ASI', 'LocalizedName': 'Asia', 'EnglishName': 'Asia'}, 'Country': {'ID': 'MY', 'LocalizedName': 'Malaysia', 'EnglishName': 'Malaysia'}, 'AdministrativeArea': {'ID': '14', 'LocalizedName': 'Kuala Lumpur', 'EnglishName': 'Kuala Lumpur', 'Level': 1, 'LocalizedType': 'State', 'EnglishType': 'State', 'CountryID': 'MY'}, 'TimeZone': {'Code': 'MYT', 'Name': 'Asia/Kuala_Lumpur', 'GmtOffset': 8.0, 'IsDaylightSaving': False, 'NextOffsetChange': None}, 'GeoPosition': {'Latitude': 3.158, 'Longitude': 101.712, 'Elevation': {'Metric': {'Value': 61.0, 'Unit': 'm', 'UnitType': 5}, 'Imperial': {'Value': 200.0, 'Unit': 'ft', 'UnitType': 0}}}, 'IsAlias': False, 'SupplementalAdminAreas': [], 'DataSets': ['AirQualityCurrentConditions', 'AirQualityForecasts', 'FutureRadar', 'MinuteCast']}, {'Version': 1, 'Key': '3483201', 'Type': 'City', 'Rank': 85, 'LocalizedName': 'Kuala Lumpur', 'EnglishName': 'Kuala Lumpur', 'PrimaryPostalCode': '', 'Region': {'ID': 'ASI', 'LocalizedName': 'Asia', 'EnglishName': 'Asia'}, 'Country': {'ID': 'ID', 'LocalizedName': 'Indonesia', 'EnglishName': 'Indonesia'}, 'AdministrativeArea': {'ID': 'GO', 'LocalizedName': 'Gorontalo', 'EnglishName': 'Gorontalo', 'Level': 1, 'LocalizedType': 'Province', 'EnglishType': 'Province', 'CountryID': 'ID'}, 'TimeZone': {'Code': 'CIT', 'Name': 'Asia/Makassar', 'GmtOffset': 8.0, 'IsDaylightSaving': False, 'NextOffsetChange': None}, 'GeoPosition': {'Latitude': 0.644, 'Longitude': 122.577, 'Elevation': {'Metric': {'Value': 158.0, 'Unit': 'm', 'UnitType': 5}, 'Imperial': {'Value': 518.0, 'Unit': 'ft', 'UnitType': 0}}}, 'IsAlias': False, 'SupplementalAdminAreas': [{'Level': 2, 'LocalizedName': 'Boalemo', 'EnglishName': 'Boalemo'}, {'Level': 3, 'LocalizedName': 'Paguyaman', 'EnglishName': 'Paguyaman'}], 'DataSets': ['AirQualityCurrentConditions', 'AirQualityForecasts', 'Alerts', 'FutureRadar', 'MinuteCast']}]\n"
          ]
        }
      ]
    },
    {
      "cell_type": "code",
      "source": [
        "for x in city_search1:\n",
        "  print(x)"
      ],
      "metadata": {
        "colab": {
          "base_uri": "https://localhost:8080/"
        },
        "id": "uiOo4AMk6n7f",
        "outputId": "2c5e009f-7f76-47ba-b161-447f0174a2e6"
      },
      "execution_count": null,
      "outputs": [
        {
          "output_type": "stream",
          "name": "stdout",
          "text": [
            "{'Version': 1, 'Key': '233776', 'Type': 'City', 'Rank': 20, 'LocalizedName': 'Kuala Lumpur', 'EnglishName': 'Kuala Lumpur', 'PrimaryPostalCode': '', 'Region': {'ID': 'ASI', 'LocalizedName': 'Asia', 'EnglishName': 'Asia'}, 'Country': {'ID': 'MY', 'LocalizedName': 'Malaysia', 'EnglishName': 'Malaysia'}, 'AdministrativeArea': {'ID': '14', 'LocalizedName': 'Kuala Lumpur', 'EnglishName': 'Kuala Lumpur', 'Level': 1, 'LocalizedType': 'State', 'EnglishType': 'State', 'CountryID': 'MY'}, 'TimeZone': {'Code': 'MYT', 'Name': 'Asia/Kuala_Lumpur', 'GmtOffset': 8.0, 'IsDaylightSaving': False, 'NextOffsetChange': None}, 'GeoPosition': {'Latitude': 3.158, 'Longitude': 101.712, 'Elevation': {'Metric': {'Value': 61.0, 'Unit': 'm', 'UnitType': 5}, 'Imperial': {'Value': 200.0, 'Unit': 'ft', 'UnitType': 0}}}, 'IsAlias': False, 'SupplementalAdminAreas': [], 'DataSets': ['AirQualityCurrentConditions', 'AirQualityForecasts', 'FutureRadar', 'MinuteCast']}\n",
            "{'Version': 1, 'Key': '3483201', 'Type': 'City', 'Rank': 85, 'LocalizedName': 'Kuala Lumpur', 'EnglishName': 'Kuala Lumpur', 'PrimaryPostalCode': '', 'Region': {'ID': 'ASI', 'LocalizedName': 'Asia', 'EnglishName': 'Asia'}, 'Country': {'ID': 'ID', 'LocalizedName': 'Indonesia', 'EnglishName': 'Indonesia'}, 'AdministrativeArea': {'ID': 'GO', 'LocalizedName': 'Gorontalo', 'EnglishName': 'Gorontalo', 'Level': 1, 'LocalizedType': 'Province', 'EnglishType': 'Province', 'CountryID': 'ID'}, 'TimeZone': {'Code': 'CIT', 'Name': 'Asia/Makassar', 'GmtOffset': 8.0, 'IsDaylightSaving': False, 'NextOffsetChange': None}, 'GeoPosition': {'Latitude': 0.644, 'Longitude': 122.577, 'Elevation': {'Metric': {'Value': 158.0, 'Unit': 'm', 'UnitType': 5}, 'Imperial': {'Value': 518.0, 'Unit': 'ft', 'UnitType': 0}}}, 'IsAlias': False, 'SupplementalAdminAreas': [{'Level': 2, 'LocalizedName': 'Boalemo', 'EnglishName': 'Boalemo'}, {'Level': 3, 'LocalizedName': 'Paguyaman', 'EnglishName': 'Paguyaman'}], 'DataSets': ['AirQualityCurrentConditions', 'AirQualityForecasts', 'Alerts', 'FutureRadar', 'MinuteCast']}\n"
          ]
        }
      ]
    },
    {
      "cell_type": "code",
      "source": [
        "print(city_search1[0].keys())\n",
        "print(city_search1[0].values())"
      ],
      "metadata": {
        "colab": {
          "base_uri": "https://localhost:8080/"
        },
        "id": "oY2p2DhU6qz4",
        "outputId": "a4c25e71-df0c-436e-8883-fc75caec0f36"
      },
      "execution_count": null,
      "outputs": [
        {
          "output_type": "stream",
          "name": "stdout",
          "text": [
            "dict_keys(['Version', 'Key', 'Type', 'Rank', 'LocalizedName', 'EnglishName', 'PrimaryPostalCode', 'Region', 'Country', 'AdministrativeArea', 'TimeZone', 'GeoPosition', 'IsAlias', 'SupplementalAdminAreas', 'DataSets'])\n",
            "dict_values([1, '233776', 'City', 20, 'Kuala Lumpur', 'Kuala Lumpur', '', {'ID': 'ASI', 'LocalizedName': 'Asia', 'EnglishName': 'Asia'}, {'ID': 'MY', 'LocalizedName': 'Malaysia', 'EnglishName': 'Malaysia'}, {'ID': '14', 'LocalizedName': 'Kuala Lumpur', 'EnglishName': 'Kuala Lumpur', 'Level': 1, 'LocalizedType': 'State', 'EnglishType': 'State', 'CountryID': 'MY'}, {'Code': 'MYT', 'Name': 'Asia/Kuala_Lumpur', 'GmtOffset': 8.0, 'IsDaylightSaving': False, 'NextOffsetChange': None}, {'Latitude': 3.158, 'Longitude': 101.712, 'Elevation': {'Metric': {'Value': 61.0, 'Unit': 'm', 'UnitType': 5}, 'Imperial': {'Value': 200.0, 'Unit': 'ft', 'UnitType': 0}}}, False, [], ['AirQualityCurrentConditions', 'AirQualityForecasts', 'FutureRadar', 'MinuteCast']])\n"
          ]
        }
      ]
    },
    {
      "cell_type": "code",
      "source": [
        "city_search2 = city_search(API_KEY,\"Bangkok\")\n",
        "print(city_search2)"
      ],
      "metadata": {
        "colab": {
          "base_uri": "https://localhost:8080/"
        },
        "id": "DzKVXMPM7Vxg",
        "outputId": "69a312ba-2a9b-4628-9100-8946508f4c87"
      },
      "execution_count": null,
      "outputs": [
        {
          "output_type": "stream",
          "name": "stdout",
          "text": [
            "[{'Version': 1, 'Key': '318849', 'Type': 'City', 'Rank': 10, 'LocalizedName': 'Bangkok', 'EnglishName': 'Bangkok', 'PrimaryPostalCode': '', 'Region': {'ID': 'ASI', 'LocalizedName': 'Asia', 'EnglishName': 'Asia'}, 'Country': {'ID': 'TH', 'LocalizedName': 'Thailand', 'EnglishName': 'Thailand'}, 'AdministrativeArea': {'ID': '10', 'LocalizedName': 'Bangkok', 'EnglishName': 'Bangkok', 'Level': 1, 'LocalizedType': 'Province', 'EnglishType': 'Province', 'CountryID': 'TH'}, 'TimeZone': {'Code': 'ICT', 'Name': 'Asia/Bangkok', 'GmtOffset': 7.0, 'IsDaylightSaving': False, 'NextOffsetChange': None}, 'GeoPosition': {'Latitude': 13.731, 'Longitude': 100.521, 'Elevation': {'Metric': {'Value': 2.0, 'Unit': 'm', 'UnitType': 5}, 'Imperial': {'Value': 6.0, 'Unit': 'ft', 'UnitType': 0}}}, 'IsAlias': False, 'SupplementalAdminAreas': [], 'DataSets': ['AirQualityCurrentConditions', 'AirQualityForecasts', 'Alerts', 'FutureRadar', 'MinuteCast', 'TidalForecast']}, {'Version': 1, 'Key': '3461469', 'Type': 'City', 'Rank': 75, 'LocalizedName': 'Bangkok', 'EnglishName': 'Bangkok', 'PrimaryPostalCode': '', 'Region': {'ID': 'ASI', 'LocalizedName': 'Asia', 'EnglishName': 'Asia'}, 'Country': {'ID': 'ID', 'LocalizedName': 'Indonesia', 'EnglishName': 'Indonesia'}, 'AdministrativeArea': {'ID': 'JI', 'LocalizedName': 'East Java', 'EnglishName': 'East Java', 'Level': 1, 'LocalizedType': 'Province', 'EnglishType': 'Province', 'CountryID': 'ID'}, 'TimeZone': {'Code': 'WIT', 'Name': 'Asia/Jakarta', 'GmtOffset': 7.0, 'IsDaylightSaving': False, 'NextOffsetChange': None}, 'GeoPosition': {'Latitude': -7.848, 'Longitude': 112.113, 'Elevation': {'Metric': {'Value': 148.0, 'Unit': 'm', 'UnitType': 5}, 'Imperial': {'Value': 486.0, 'Unit': 'ft', 'UnitType': 0}}}, 'IsAlias': False, 'SupplementalAdminAreas': [{'Level': 2, 'LocalizedName': 'Kediri', 'EnglishName': 'Kediri'}, {'Level': 3, 'LocalizedName': 'Gurah', 'EnglishName': 'Gurah'}], 'DataSets': ['AirQualityCurrentConditions', 'AirQualityForecasts', 'Alerts', 'FutureRadar', 'MinuteCast']}, {'Version': 1, 'Key': '3465025', 'Type': 'City', 'Rank': 85, 'LocalizedName': 'Bangkok', 'EnglishName': 'Bangkok', 'PrimaryPostalCode': '', 'Region': {'ID': 'ASI', 'LocalizedName': 'Asia', 'EnglishName': 'Asia'}, 'Country': {'ID': 'ID', 'LocalizedName': 'Indonesia', 'EnglishName': 'Indonesia'}, 'AdministrativeArea': {'ID': 'JI', 'LocalizedName': 'East Java', 'EnglishName': 'East Java', 'Level': 1, 'LocalizedType': 'Province', 'EnglishType': 'Province', 'CountryID': 'ID'}, 'TimeZone': {'Code': 'WIT', 'Name': 'Asia/Jakarta', 'GmtOffset': 7.0, 'IsDaylightSaving': False, 'NextOffsetChange': None}, 'GeoPosition': {'Latitude': -7.106, 'Longitude': 112.503, 'Elevation': {'Metric': {'Value': 1.0, 'Unit': 'm', 'UnitType': 5}, 'Imperial': {'Value': 3.0, 'Unit': 'ft', 'UnitType': 0}}}, 'IsAlias': False, 'SupplementalAdminAreas': [{'Level': 2, 'LocalizedName': 'Lamongan', 'EnglishName': 'Lamongan'}, {'Level': 3, 'LocalizedName': 'Glagah', 'EnglishName': 'Glagah'}], 'DataSets': ['AirQualityCurrentConditions', 'AirQualityForecasts', 'Alerts', 'FutureRadar', 'MinuteCast', 'TidalForecast']}, {'Version': 1, 'Key': '3456368', 'Type': 'City', 'Rank': 85, 'LocalizedName': 'Bangkok', 'EnglishName': 'Bangkok', 'PrimaryPostalCode': '', 'Region': {'ID': 'ASI', 'LocalizedName': 'Asia', 'EnglishName': 'Asia'}, 'Country': {'ID': 'ID', 'LocalizedName': 'Indonesia', 'EnglishName': 'Indonesia'}, 'AdministrativeArea': {'ID': 'JT', 'LocalizedName': 'Central Java', 'EnglishName': 'Central Java', 'Level': 1, 'LocalizedType': 'Province', 'EnglishType': 'Province', 'CountryID': 'ID'}, 'TimeZone': {'Code': 'WIT', 'Name': 'Asia/Jakarta', 'GmtOffset': 7.0, 'IsDaylightSaving': False, 'NextOffsetChange': None}, 'GeoPosition': {'Latitude': -7.328, 'Longitude': 110.67, 'Elevation': {'Metric': {'Value': 191.0, 'Unit': 'm', 'UnitType': 5}, 'Imperial': {'Value': 628.0, 'Unit': 'ft', 'UnitType': 0}}}, 'IsAlias': False, 'SupplementalAdminAreas': [{'Level': 2, 'LocalizedName': 'Boyolali', 'EnglishName': 'Boyolali'}, {'Level': 3, 'LocalizedName': 'Karanggede', 'EnglishName': 'Karanggede'}], 'DataSets': ['AirQualityCurrentConditions', 'AirQualityForecasts', 'Alerts', 'FutureRadar', 'MinuteCast']}]\n"
          ]
        }
      ]
    },
    {
      "cell_type": "markdown",
      "source": [
        "2. Current Conditions API"
      ],
      "metadata": {
        "id": "7WjH09PI7qTC"
      }
    },
    {
      "cell_type": "code",
      "source": [
        "# Current condition API - http://dataservice.accuweather.com/currentconditions/v1/{location key}\n",
        "\n",
        "#Only required 2 inputs\n",
        "# location key\n",
        "# apikey\n",
        "\n",
        "#location key is located in our previous api city search\n",
        "\n",
        "def get_current_conditions(api_key,location_key):\n",
        "  endpoint = f\"http://dataservice.accuweather.com/currentconditions/v1/{location_key}\"\n",
        "  params = {\n",
        "      \"apikey\":api_key,\n",
        "\n",
        "  }\n",
        "\n",
        "  response = requests.get(endpoint,params) #requires endpoint and parameter of requests\n",
        "\n",
        "  if response.status_code ==200:\n",
        "    return response.json()\n",
        "  else:\n",
        "    print(f\"Error:  {response.status_code}\")\n",
        "    return None"
      ],
      "metadata": {
        "id": "95I49zuM7eCg"
      },
      "execution_count": null,
      "outputs": []
    },
    {
      "cell_type": "code",
      "source": [
        "print(city_search1[0])\n",
        "kl_key = city_search1[0]['Key']\n",
        "print(kl_key)"
      ],
      "metadata": {
        "colab": {
          "base_uri": "https://localhost:8080/"
        },
        "id": "QMPsBYfB9sqd",
        "outputId": "cd055907-2da5-4309-ae9a-144841f89171"
      },
      "execution_count": null,
      "outputs": [
        {
          "output_type": "stream",
          "name": "stdout",
          "text": [
            "{'Version': 1, 'Key': '233776', 'Type': 'City', 'Rank': 20, 'LocalizedName': 'Kuala Lumpur', 'EnglishName': 'Kuala Lumpur', 'PrimaryPostalCode': '', 'Region': {'ID': 'ASI', 'LocalizedName': 'Asia', 'EnglishName': 'Asia'}, 'Country': {'ID': 'MY', 'LocalizedName': 'Malaysia', 'EnglishName': 'Malaysia'}, 'AdministrativeArea': {'ID': '14', 'LocalizedName': 'Kuala Lumpur', 'EnglishName': 'Kuala Lumpur', 'Level': 1, 'LocalizedType': 'State', 'EnglishType': 'State', 'CountryID': 'MY'}, 'TimeZone': {'Code': 'MYT', 'Name': 'Asia/Kuala_Lumpur', 'GmtOffset': 8.0, 'IsDaylightSaving': False, 'NextOffsetChange': None}, 'GeoPosition': {'Latitude': 3.158, 'Longitude': 101.712, 'Elevation': {'Metric': {'Value': 61.0, 'Unit': 'm', 'UnitType': 5}, 'Imperial': {'Value': 200.0, 'Unit': 'ft', 'UnitType': 0}}}, 'IsAlias': False, 'SupplementalAdminAreas': [], 'DataSets': ['AirQualityCurrentConditions', 'AirQualityForecasts', 'FutureRadar', 'MinuteCast']}\n",
            "233776\n"
          ]
        }
      ]
    },
    {
      "cell_type": "code",
      "source": [
        "condition_result1 = get_current_conditions(API_KEY,kl_key)\n",
        "print(condition_result1)"
      ],
      "metadata": {
        "colab": {
          "base_uri": "https://localhost:8080/"
        },
        "id": "1DUWCbsN-Mak",
        "outputId": "e10acbe3-55b4-4e7a-a387-d528c55b56a6"
      },
      "execution_count": null,
      "outputs": [
        {
          "output_type": "stream",
          "name": "stdout",
          "text": [
            "[{'LocalObservationDateTime': '2025-04-18T21:15:00+08:00', 'EpochTime': 1744982100, 'WeatherText': 'Cloudy', 'WeatherIcon': 7, 'HasPrecipitation': False, 'PrecipitationType': None, 'IsDayTime': False, 'Temperature': {'Metric': {'Value': 28.1, 'Unit': 'C', 'UnitType': 17}, 'Imperial': {'Value': 82.0, 'Unit': 'F', 'UnitType': 18}}, 'MobileLink': 'http://www.accuweather.com/en/my/kuala-lumpur/233776/current-weather/233776?lang=en-us', 'Link': 'http://www.accuweather.com/en/my/kuala-lumpur/233776/current-weather/233776?lang=en-us'}]\n"
          ]
        }
      ]
    },
    {
      "cell_type": "code",
      "source": [
        "print(condition_result1[0].keys())\n",
        "\n",
        "for key, value in condition_result1[0].items():\n",
        "  print(f\"Key: {key}, Value: {value}\")"
      ],
      "metadata": {
        "colab": {
          "base_uri": "https://localhost:8080/"
        },
        "id": "kpW2dMHn-aQm",
        "outputId": "bc2149a7-9b09-484e-d986-ea358ce42239"
      },
      "execution_count": null,
      "outputs": [
        {
          "output_type": "stream",
          "name": "stdout",
          "text": [
            "dict_keys(['LocalObservationDateTime', 'EpochTime', 'WeatherText', 'WeatherIcon', 'HasPrecipitation', 'PrecipitationType', 'IsDayTime', 'Temperature', 'MobileLink', 'Link'])\n",
            "Key: LocalObservationDateTime, Value: 2025-04-11T21:05:00+08:00\n",
            "Key: EpochTime, Value: 1744376700\n",
            "Key: WeatherText, Value: Cloudy\n",
            "Key: WeatherIcon, Value: 7\n",
            "Key: HasPrecipitation, Value: False\n",
            "Key: PrecipitationType, Value: None\n",
            "Key: IsDayTime, Value: False\n",
            "Key: Temperature, Value: {'Metric': {'Value': 27.5, 'Unit': 'C', 'UnitType': 17}, 'Imperial': {'Value': 82.0, 'Unit': 'F', 'UnitType': 18}}\n",
            "Key: MobileLink, Value: http://www.accuweather.com/en/my/kuala-lumpur/233776/current-weather/233776?lang=en-us\n",
            "Key: Link, Value: http://www.accuweather.com/en/my/kuala-lumpur/233776/current-weather/233776?lang=en-us\n"
          ]
        }
      ]
    },
    {
      "cell_type": "markdown",
      "source": [
        "3. Daily Forecast API"
      ],
      "metadata": {
        "id": "y2QsdibGAmSr"
      }
    },
    {
      "cell_type": "code",
      "source": [
        "#Only required 2 inputs\n",
        "# location key\n",
        "# apikey\n",
        "# http://dataservice.accuweather.com/forecasts/v1/daily/1day/{location key}\n",
        "\n",
        "def get_daily_forecast1(api_key,location_key):\n",
        "  endpoint = f\"http://dataservice.accuweather.com/currentconditions/v1/{location_key}\" #Need to key in the right endpoint\n",
        "  params = {\n",
        "      \"apikey\":api_key,\n",
        "\n",
        "  }\n",
        "\n",
        "  response = requests.get(endpoint,params) #requires endpoint and parameter of requests\n",
        "\n",
        "  if response.status_code ==200:\n",
        "    return response.json()\n",
        "  else:\n",
        "    print(f\"Error:  {response.status_code}\")\n",
        "    return None"
      ],
      "metadata": {
        "id": "Kd3LqJvbAjWD"
      },
      "execution_count": null,
      "outputs": []
    },
    {
      "cell_type": "code",
      "source": [
        "forecast_results1 = get_daily_forecast1(API_KEY,kl_key)\n",
        "print(forecast_results1)"
      ],
      "metadata": {
        "colab": {
          "base_uri": "https://localhost:8080/"
        },
        "id": "w9_6uD8mBOLf",
        "outputId": "d9c55196-e6fb-4482-e6c8-9bf1d9f7e037"
      },
      "execution_count": null,
      "outputs": [
        {
          "output_type": "stream",
          "name": "stdout",
          "text": [
            "[{'LocalObservationDateTime': '2025-04-18T21:15:00+08:00', 'EpochTime': 1744982100, 'WeatherText': 'Cloudy', 'WeatherIcon': 7, 'HasPrecipitation': False, 'PrecipitationType': None, 'IsDayTime': False, 'Temperature': {'Metric': {'Value': 28.1, 'Unit': 'C', 'UnitType': 17}, 'Imperial': {'Value': 82.0, 'Unit': 'F', 'UnitType': 18}}, 'MobileLink': 'http://www.accuweather.com/en/my/kuala-lumpur/233776/current-weather/233776?lang=en-us', 'Link': 'http://www.accuweather.com/en/my/kuala-lumpur/233776/current-weather/233776?lang=en-us'}]\n"
          ]
        }
      ]
    },
    {
      "cell_type": "code",
      "source": [
        "for key, value in condition_result1[0].items():\n",
        "  print(f\"Key: {key}, Value: {value}\")"
      ],
      "metadata": {
        "colab": {
          "base_uri": "https://localhost:8080/"
        },
        "id": "4k_vF4tSBs36",
        "outputId": "98877577-abb3-4fa5-8af2-7834823e188a"
      },
      "execution_count": null,
      "outputs": [
        {
          "output_type": "stream",
          "name": "stdout",
          "text": [
            "Key: LocalObservationDateTime, Value: 2025-04-11T21:05:00+08:00\n",
            "Key: EpochTime, Value: 1744376700\n",
            "Key: WeatherText, Value: Cloudy\n",
            "Key: WeatherIcon, Value: 7\n",
            "Key: HasPrecipitation, Value: False\n",
            "Key: PrecipitationType, Value: None\n",
            "Key: IsDayTime, Value: False\n",
            "Key: Temperature, Value: {'Metric': {'Value': 27.5, 'Unit': 'C', 'UnitType': 17}, 'Imperial': {'Value': 82.0, 'Unit': 'F', 'UnitType': 18}}\n",
            "Key: MobileLink, Value: http://www.accuweather.com/en/my/kuala-lumpur/233776/current-weather/233776?lang=en-us\n",
            "Key: Link, Value: http://www.accuweather.com/en/my/kuala-lumpur/233776/current-weather/233776?lang=en-us\n"
          ]
        }
      ]
    },
    {
      "cell_type": "markdown",
      "source": [
        "# 4. Create a function \"fetch_weather_data\" to fetch all 3 API data"
      ],
      "metadata": {
        "id": "HGG4ST5p4J6q"
      }
    },
    {
      "cell_type": "code",
      "source": [
        "def fahrenheit_to_celcius(fahrenheit):\n",
        "  return (fahrenheit-32) * 5/9\n",
        "\n",
        "fahrenheit_to_celcius(92)"
      ],
      "metadata": {
        "id": "ZaY_hNYi4JSm"
      },
      "execution_count": null,
      "outputs": []
    },
    {
      "cell_type": "code",
      "source": [
        "# now we can create a function that gets all data from all 3 APIs\n",
        "\n",
        "from datetime import datetime\n",
        "\n",
        "def fetch_weather_data(api_key,name):\n",
        "  # i) function using city search to get city info\n",
        "\n",
        "  city_infos = city_search(api_key,name)\n",
        "  finalized_city_infos = city_infos[0]\n",
        "\n",
        "  # ii) function to get your location key. Extract information from finalized city infos\n",
        "  city_name = finalized_city_infos['ID']['LocalizedName'] #city name\n",
        "  city_key = finalized_city_infos['Key'] #city key\n",
        "  country_name = finalized_city_infos['Country']['LocalizedName']\n",
        "\n",
        "  # using the get_current_conditions()\n",
        "  current_conditions = get_current_conditions(api_key,city_key)\n",
        "  finalized_current_condition = current_conditions[0]\n",
        "\n",
        "  #Key: LocalObservationDateTime, Value: 2025-04-11T21:05:00+08:00\n",
        "  #Key: EpochTime, Value: 1744376700\n",
        "  #Key: WeatherText, Value: Cloudy\n",
        "  #Key: WeatherIcon, Value: 7\n",
        "  #Key: HasPrecipitation, Value: False\n",
        "  #Key: PrecipitationType, Value: None\n",
        "  #Key: IsDayTime, Value: False\n",
        "  #Key: Temperature, Value: {'Metric': {'Value': 27.5, 'Unit': 'C', 'UnitType': 17}, 'Imperial': {'Value': 82.0, 'Unit': 'F', 'UnitType': 18}}\n",
        "  #Key: MobileLink, Value: http://www.accuweather.com/en/my/kuala-lumpur/233776/current-weather/233776?lang=en-us\n",
        "  #Key: Link, Value: http://www.accuweather.com/en/my/kuala-lumpur/233776/current-weather/233776?lang=en-us\n",
        "\n",
        "  # ii) Extract the information from above key_value\n",
        "\n",
        "  observation_time=finalized_current_condition['LocalObservationDateTime']\n",
        "  formatted_time = datetime.strptime(observation_time,\"%Y-%m-%dT%H:%M:%S%z\").strftime(\"%d-%m-%Y %H:%M:%S%z\")\n",
        "  temperature = finalized_current_condition['Temperature']['Metric']['Value']\n",
        "  weather_text = finalized_current_condition['WeatherText']\n",
        "  is_day_time = finalized_current_condition['IsDayTime']\n",
        "\n",
        "  #extract information for daily forecast\n",
        "  # 'LocalObservationDateTime': '2025-04-18T21:15:00+08:00', 'EpochTime': 1744982100, 'WeatherText': 'Cloudy', 'WeatherIcon': 7, 'HasPrecipitation': False, 'PrecipitationType': None, 'IsDayTime': False,\n",
        "  # 'Temperature': {'Metric': {'Value': 28.1, 'Unit': 'C', 'UnitType': 17}, 'Imperial': {'Value': 82.0, 'Unit': 'F', 'UnitType': 18}}, 'MobileLink': 'http://www.accuweather.com/en/my/kuala-lumpur/233776/current-weather/233776?lang=en-us', 'Link': 'http://www.accuweather.com/en/my/kuala-lumpur/233776/current-weather/233776?lang=en-us'}]\n",
        "\n",
        "  daily_forecast1 = get_daily_forecast1(api_key,city_key)\n",
        "  min_temp_f = daily_forecast['DailyForecasts']['Temperature']['Minimum']\n",
        "  max_temp_f = daily_forecast['DailyForecasts']['Temperature']['Maximum']\n",
        "  min_temp_c = fahrenheit_to_celsius(min_temp_f)\n",
        "  max_temp_c = fahrenheit_to_celsius(max_temp_f)\n",
        "  forecast_text = daily_forecast['DailyForecasts']['Day']['IconPhrase']\n",
        "\n",
        "\n"
      ],
      "metadata": {
        "id": "ginqoKlJ5HoH"
      },
      "execution_count": null,
      "outputs": []
    }
  ]
}